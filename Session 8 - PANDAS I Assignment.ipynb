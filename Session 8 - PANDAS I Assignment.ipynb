{
 "cells": [
  {
   "cell_type": "markdown",
   "metadata": {},
   "source": [
    "## How to count distance to the previous zero"
   ]
  },
  {
   "cell_type": "code",
   "execution_count": 1,
   "metadata": {},
   "outputs": [
    {
     "name": "stdout",
     "output_type": "stream",
     "text": [
      "[1, 2, 0, 1, 2, 3, 4, 0, 1, 2]\n"
     ]
    }
   ],
   "source": [
    "import pandas as pd\n",
    "\n",
    "df=pd.DataFrame({'X':[7,2,0,3,4,2,5,0,3,4]})\n",
    "\n",
    "x = (df['X'] != 0).cumsum()\n",
    "\n",
    "y = x != x.shift()\n",
    "df['Y']=(y.groupby(y.eq(0).cumsum().mask(y.eq(0))).cumcount() + 1).mask(y.eq(0), 0).tolist()\n",
    "print(list(df['Y']))"
   ]
  },
  {
   "cell_type": "markdown",
   "metadata": {},
   "source": [
    "DatetimeIndex "
   ]
  },
  {
   "cell_type": "code",
   "execution_count": 3,
   "metadata": {},
   "outputs": [
    {
     "name": "stdout",
     "output_type": "stream",
     "text": [
      "2015-01-01    0.821299\n",
      "2015-01-02    0.968563\n",
      "2015-01-05    0.183631\n",
      "2015-01-06    0.090516\n",
      "2015-01-07    0.033400\n",
      "2015-01-08    0.700983\n",
      "2015-01-09    0.387490\n",
      "2015-01-12    0.600684\n",
      "2015-01-13    0.695999\n",
      "2015-01-14    0.660181\n",
      "2015-01-15    0.485476\n",
      "2015-01-16    0.791371\n",
      "2015-01-19    0.986495\n",
      "2015-01-20    0.846659\n",
      "2015-01-21    0.273677\n",
      "2015-01-22    0.281348\n",
      "2015-01-23    0.015954\n",
      "2015-01-26    0.280014\n",
      "2015-01-27    0.852970\n",
      "2015-01-28    0.868456\n",
      "2015-01-29    0.715507\n",
      "2015-01-30    0.958743\n",
      "2015-02-02    0.556810\n",
      "2015-02-03    0.590511\n",
      "2015-02-04    0.493679\n",
      "2015-02-05    0.845272\n",
      "2015-02-06    0.982901\n",
      "2015-02-09    0.111696\n",
      "2015-02-10    0.414732\n",
      "2015-02-11    0.869300\n",
      "                ...   \n",
      "2015-11-20    0.869062\n",
      "2015-11-23    0.276253\n",
      "2015-11-24    0.817733\n",
      "2015-11-25    0.650319\n",
      "2015-11-26    0.215850\n",
      "2015-11-27    0.952933\n",
      "2015-11-30    0.007206\n",
      "2015-12-01    0.407789\n",
      "2015-12-02    0.460668\n",
      "2015-12-03    0.493345\n",
      "2015-12-04    0.312525\n",
      "2015-12-07    0.060752\n",
      "2015-12-08    0.745459\n",
      "2015-12-09    0.552645\n",
      "2015-12-10    0.899264\n",
      "2015-12-11    0.607628\n",
      "2015-12-14    0.902902\n",
      "2015-12-15    0.331225\n",
      "2015-12-16    0.090329\n",
      "2015-12-17    0.303970\n",
      "2015-12-18    0.247600\n",
      "2015-12-21    0.200830\n",
      "2015-12-22    0.292771\n",
      "2015-12-23    0.583450\n",
      "2015-12-24    0.447338\n",
      "2015-12-25    0.044949\n",
      "2015-12-28    0.686987\n",
      "2015-12-29    0.540587\n",
      "2015-12-30    0.208927\n",
      "2015-12-31    0.698003\n",
      "Freq: B, Length: 261, dtype: float64\n"
     ]
    }
   ],
   "source": [
    "import pandas as pd\n",
    "import numpy as np\n",
    "Days = pd.date_range(start='2015-01-01', end='2015-12-31', freq='B') \n",
    "DTI= pd.Series(np.random.rand(len(Days)), index=Days)\n",
    "print (DTI)"
   ]
  },
  {
   "cell_type": "markdown",
   "metadata": {},
   "source": [
    "## Sum of the values for every wednesday"
   ]
  },
  {
   "cell_type": "code",
   "execution_count": 4,
   "metadata": {},
   "outputs": [
    {
     "data": {
      "text/plain": [
       "25.35714713744693"
      ]
     },
     "execution_count": 4,
     "metadata": {},
     "output_type": "execute_result"
    }
   ],
   "source": [
    "DTI[Days.weekday == 2].sum() "
   ]
  },
  {
   "cell_type": "markdown",
   "metadata": {},
   "source": [
    "## Average for each calender month"
   ]
  },
  {
   "cell_type": "code",
   "execution_count": 5,
   "metadata": {},
   "outputs": [
    {
     "name": "stderr",
     "output_type": "stream",
     "text": [
      "C:\\Users\\nayinis\\AppData\\Local\\Continuum\\anaconda3\\lib\\site-packages\\ipykernel_launcher.py:1: FutureWarning: how in .resample() is deprecated\n",
      "the new syntax is .resample(...).mean()\n",
      "  \"\"\"Entry point for launching an IPython kernel.\n"
     ]
    },
    {
     "data": {
      "text/plain": [
       "2015-01-31    0.568155\n",
       "2015-02-28    0.563184\n",
       "2015-03-31    0.424043\n",
       "2015-04-30    0.553127\n",
       "2015-05-31    0.566001\n",
       "2015-06-30    0.524380\n",
       "2015-07-31    0.433621\n",
       "2015-08-31    0.468701\n",
       "2015-09-30    0.479446\n",
       "2015-10-31    0.517778\n",
       "2015-11-30    0.576439\n",
       "2015-12-31    0.439998\n",
       "Freq: M, dtype: float64"
      ]
     },
     "execution_count": 5,
     "metadata": {},
     "output_type": "execute_result"
    }
   ],
   "source": [
    "DTI.resample('M', how='mean')"
   ]
  },
  {
   "cell_type": "markdown",
   "metadata": {},
   "source": [
    "##Highest value "
   ]
  },
  {
   "cell_type": "code",
   "execution_count": 6,
   "metadata": {},
   "outputs": [
    {
     "name": "stderr",
     "output_type": "stream",
     "text": [
      "C:\\Users\\nayinis\\AppData\\Local\\Continuum\\anaconda3\\lib\\site-packages\\ipykernel_launcher.py:1: FutureWarning: pd.TimeGrouper is deprecated and will be removed; Please use pd.Grouper(freq=...)\n",
      "  \"\"\"Entry point for launching an IPython kernel.\n"
     ]
    },
    {
     "data": {
      "text/plain": [
       "2015-01-31   2015-01-19\n",
       "2015-05-31   2015-04-28\n",
       "2015-09-30   2015-06-02\n",
       "2016-01-31   2015-11-13\n",
       "dtype: datetime64[ns]"
      ]
     },
     "execution_count": 6,
     "metadata": {},
     "output_type": "execute_result"
    }
   ],
   "source": [
    "DTI.groupby(pd.TimeGrouper('4M')).idxmax()"
   ]
  },
  {
   "cell_type": "code",
   "execution_count": null,
   "metadata": {},
   "outputs": [],
   "source": []
  }
 ],
 "metadata": {
  "kernelspec": {
   "display_name": "Python 3",
   "language": "python",
   "name": "python3"
  },
  "language_info": {
   "codemirror_mode": {
    "name": "ipython",
    "version": 3
   },
   "file_extension": ".py",
   "mimetype": "text/x-python",
   "name": "python",
   "nbconvert_exporter": "python",
   "pygments_lexer": "ipython3",
   "version": "3.7.0"
  }
 },
 "nbformat": 4,
 "nbformat_minor": 2
}
